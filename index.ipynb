{
 "cells": [
  {
   "cell_type": "code",
   "execution_count": null,
   "metadata": {},
   "outputs": [],
   "source": [
    "print('Gajraj')"
   ]
  },
  {
   "cell_type": "code",
   "execution_count": null,
   "metadata": {},
   "outputs": [],
   "source": [
    "# !pip install openai langchain_google_genai duckdb\n",
    "# !pip show openai\n",
    "# !pip install kor"
   ]
  },
  {
   "cell_type": "code",
   "execution_count": 30,
   "metadata": {},
   "outputs": [],
   "source": [
    "import os\n",
    "from langchain.llms.google_palm import GooglePalm\n",
    "import requests\n",
    "import duckdb\n",
    "import pandas as pd\n",
    "import time\n",
    "\n",
    "if \"GOOGLE_API_KEY\" not in os.environ:\n",
    "    os.environ[\"GOOGLE_API_KEY\"] = \"mt\n",
    "\n",
    "llm = GooglePalm(model=\"gemini-pro\")\n",
    "\n",
    "def get_ip_address(llm,detail):\n",
    "    template=f'''\n",
    "    Can you fetch only ip address related data from following details and put this detail in response field only,\n",
    "    I need only ip address,i don't need any other details,so don't need to be verbose only gives response in format of ip address?\n",
    "\n",
    "    ###Details###\n",
    "        {detail}\n",
    "\n",
    "    ###Response####\n",
    "\n",
    "    '''\n",
    "    result = llm(template)\n",
    "    return result\n",
    "\n",
    "def is_gclid_exist(llm,detail):\n",
    "    template=f'''\n",
    "    Can you check weather gclid exists from following details or not if you found such detail put this detail in response field only like yes,\n",
    "    I need only yes and no response,i don't need any other details,so don't need to be verbose only gives response in format of yes or no?\n",
    "\n",
    "    ###Details###\n",
    "    {detail}\n",
    "\n",
    "    ###Response####\n",
    "\n",
    "    '''\n",
    "\n",
    "    result = llm(template)\n",
    "    return result\n",
    "\n",
    "def get_country(ip_address):\n",
    "    try:\n",
    "        response = requests.get(f'http://ip-api.com/json/{ip_address}')\n",
    "        js = response.json()\n",
    "        country = js['country']\n",
    "        return country\n",
    "    except Exception as e:\n",
    "        return str(e)\n",
    "\n",
    "def get_url(llm,detail):\n",
    "\n",
    "    # def get_ip_address(llm,detail):\n",
    "    template=f'''\n",
    "    Can you fetch url path start with /landing from following details and put this detail in response field only,\n",
    "    I need only url path,i don't need any other details,so don't need to be verbose only gives response in format of url path?\n",
    "    Response should be like following way\n",
    "\n",
    "    /landing/flutter-2\n",
    "    /landing/images\n",
    "    ###Details###\n",
    "        {detail}\n",
    "\n",
    "    ###Response####\n",
    "\n",
    "    '''\n",
    "    result = llm(template)\n",
    "    return result"
   ]
  },
  {
   "cell_type": "code",
   "execution_count": 31,
   "metadata": {},
   "outputs": [
    {
     "name": "stdout",
     "output_type": "stream",
     "text": [
      "17\n",
      "20\n",
      "21\n",
      "29\n",
      "30\n",
      "31\n",
      "32\n",
      "Error -> list index out of range\n",
      "Error -> list index out of range\n",
      "Error -> list index out of range\n",
      "Error -> list index out of range\n",
      "37\n",
      "Error -> list index out of range\n",
      "41\n",
      "Error -> list index out of range\n",
      "43\n",
      "44\n",
      "45\n",
      "46\n",
      "47\n",
      "48\n",
      "Error -> list index out of range\n",
      "50\n",
      "51\n",
      "Error -> list index out of range\n",
      "670\n",
      "706\n",
      "710\n",
      "711\n",
      "712\n",
      "714\n",
      "715\n",
      "716\n",
      "770\n",
      "825\n",
      "834\n",
      "867\n",
      "879\n",
      "903\n",
      "930\n",
      "993\n",
      "1030\n",
      "1057\n",
      "1106\n"
     ]
    }
   ],
   "source": [
    "\n",
    "import pandas as pd\n",
    "import time\n",
    "# Create a sample DataFrame\n",
    "df = pd.DataFrame({\n",
    "    'ip_address': [],\n",
    "    'is_gclid': [],\n",
    "    'url': [],\n",
    "    'country_name': [],\n",
    "})\n",
    "\n",
    "df_data=pd.read_csv('./accesslogs19-01-2023-10-00.csv')\n",
    "\n",
    "for index,row in df_data.iterrows():\n",
    "    try:\n",
    "        if 'gclid' in row[0]:\n",
    "            time.sleep(5)\n",
    "            ip_address = get_ip_address(llm,row[0])\n",
    "            is_gclid = 'yes'\n",
    "            country_name= get_country(ip_address)\n",
    "            url= get_url(llm,row[0])\n",
    "            if \":\" not in ip_address:\n",
    "                print(index)\n",
    "                new_record = pd.DataFrame([{\n",
    "                'ip_address': ip_address,\n",
    "                'url': url.replace('```','').replace('###Response####','').replace('\"','').strip(),\n",
    "                'is_gclid': is_gclid,\n",
    "                'country_name': country_name\n",
    "                }])\n",
    "            df = pd.concat([df, new_record], ignore_index=True)  \n",
    "            # Insert into db  \n",
    "    except Exception as ex:\n",
    "        print(f'Error -> {ex}')\n",
    "        continue        \n",
    "    "
   ]
  },
  {
   "cell_type": "code",
   "execution_count": 32,
   "metadata": {},
   "outputs": [],
   "source": [
    "import duckdb\n",
    "import pandas as pd\n",
    "\n",
    "con = duckdb.connect(database=\"./detail.duckdb\",read_only=False)\n",
    "\n",
    "# Create a table named \"my_table\" from the DataFrame\n",
    "con.execute(\"CREATE TABLE click_details AS SELECT * FROM df\")\n",
    "\n",
    "# Insert into the table \"my_table\" from the DataFrame\n",
    "con.execute(\"INSERT INTO click_details SELECT * FROM df\")\n",
    "\n",
    "# Close the connection\n",
    "con.close()"
   ]
  },
  {
   "cell_type": "code",
   "execution_count": 33,
   "metadata": {},
   "outputs": [],
   "source": [
    "df.to_csv(\"./details.csv\",index=False)"
   ]
  },
  {
   "cell_type": "code",
   "execution_count": 34,
   "metadata": {},
   "outputs": [
    {
     "data": {
      "text/plain": [
       "Index(['ip_address', 'is_gclid', 'url', 'country_name'], dtype='object')"
      ]
     },
     "execution_count": 34,
     "metadata": {},
     "output_type": "execute_result"
    }
   ],
   "source": [
    "df.columns"
   ]
  },
  {
   "cell_type": "code",
   "execution_count": 28,
   "metadata": {},
   "outputs": [],
   "source": [
    "import duckdb\n",
    "dd=duckdb.query(\"select count(ip_address) as no_of_click,ip_address,is_gclid,country_name,url from df group by ip_address,is_gclid,country_name,url\").to_df()"
   ]
  },
  {
   "cell_type": "code",
   "execution_count": 29,
   "metadata": {},
   "outputs": [],
   "source": [
    "dd.to_csv(\"details_with_click.csv\",index=False)"
   ]
  },
  {
   "cell_type": "code",
   "execution_count": null,
   "metadata": {},
   "outputs": [],
   "source": []
  },
  {
   "cell_type": "code",
   "execution_count": null,
   "metadata": {},
   "outputs": [],
   "source": []
  },
  {
   "cell_type": "code",
   "execution_count": null,
   "metadata": {},
   "outputs": [],
   "source": []
  },
  {
   "cell_type": "code",
   "execution_count": null,
   "metadata": {},
   "outputs": [],
   "source": []
  }
 ],
 "metadata": {
  "kernelspec": {
   "display_name": "uiexpv1",
   "language": "python",
   "name": "python3"
  },
  "language_info": {
   "codemirror_mode": {
    "name": "ipython",
    "version": 3
   },
   "file_extension": ".py",
   "mimetype": "text/x-python",
   "name": "python",
   "nbconvert_exporter": "python",
   "pygments_lexer": "ipython3",
   "version": "3.10.13"
  }
 },
 "nbformat": 4,
 "nbformat_minor": 2
}
